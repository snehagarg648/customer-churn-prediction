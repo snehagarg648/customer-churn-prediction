{
  "cells": [
    {
      "cell_type": "markdown",
      "metadata": {
        "colab_type": "text",
        "id": "view-in-github"
      },
      "source": [
        "<a href=\"https://colab.research.google.com/github/roshank1605A04/Churn-Modelling-Dataset/blob/master/Churn_Modelling.ipynb\" target=\"_parent\"><img src=\"https://colab.research.google.com/assets/colab-badge.svg\" alt=\"Open In Colab\"/></a>"
      ]
    },
    {
      "cell_type": "markdown",
      "metadata": {
        "colab_type": "text",
        "id": "_S34U5S-i69d"
      },
      "source": [
        "**Importing the libraries**"
      ]
    },
    {
      "cell_type": "code",
      "execution_count": 0,
      "metadata": {
        "colab": {},
        "colab_type": "code",
        "id": "PYU9RIEWif6n"
      },
      "outputs": [],
      "source": [
        "import numpy as np\n",
        "import pandas as pd\n",
        "\n",
        "import matplotlib.pyplot as plt"
      ]
    },
    {
      "cell_type": "markdown",
      "metadata": {
        "colab_type": "text",
        "id": "9IZetEZ8jQJm"
      },
      "source": [
        "**Importing the Dataset**"
      ]
    },
    {
      "cell_type": "code",
      "execution_count": 0,
      "metadata": {
        "colab": {},
        "colab_type": "code",
        "id": "rvPXb5V5jPN-"
      },
      "outputs": [],
      "source": [
        "data = pd.read_csv('drive/My Drive/super/Artificial Neural Networks/Churn_Modelling.csv')\n",
        "\n",
        "data.head(4)"
      ]
    },
    {
      "cell_type": "code",
      "execution_count": 0,
      "metadata": {
        "colab": {},
        "colab_type": "code",
        "id": "TinF8sdf9atQ"
      },
      "outputs": [],
      "source": [
        "data.info()"
      ]
    },
    {
      "cell_type": "code",
      "execution_count": 0,
      "metadata": {
        "colab": {},
        "colab_type": "code",
        "id": "fX7PPpba973B"
      },
      "outputs": [],
      "source": [
        "data.describe()"
      ]
    },
    {
      "cell_type": "code",
      "execution_count": 0,
      "metadata": {
        "colab": {},
        "colab_type": "code",
        "id": "RKwSmzQU97nY"
      },
      "outputs": [],
      "source": [
        "data.tail()"
      ]
    },
    {
      "cell_type": "code",
      "execution_count": 0,
      "metadata": {
        "colab": {},
        "colab_type": "code",
        "id": "DKnxi2l3jzWs"
      },
      "outputs": [],
      "source": [
        "# Checking if our dataset contains any NULL values\n",
        "\n",
        "data.isnull().sum()"
      ]
    },
    {
      "cell_type": "markdown",
      "metadata": {
        "colab_type": "text",
        "id": "Cpzuyj7gxwCg"
      },
      "source": [
        "**Data Analysis**"
      ]
    },
    {
      "cell_type": "code",
      "execution_count": 0,
      "metadata": {
        "colab": {},
        "colab_type": "code",
        "id": "N_gQ0bLF-PHe"
      },
      "outputs": [],
      "source": [
        "data['Gender'].value_counts()"
      ]
    },
    {
      "cell_type": "code",
      "execution_count": 0,
      "metadata": {
        "colab": {},
        "colab_type": "code",
        "id": "oFY8xmMnk7fa"
      },
      "outputs": [],
      "source": [
        "# Plotting the features of the dataset to see the correlation between them\n",
        "\n",
        "plt.hist(x = data.Gender, bins = 3, color = 'pink')\n",
        "plt.title('comparison of male and female')\n",
        "plt.xlabel('Gender')\n",
        "plt.ylabel('population')\n",
        "plt.show()"
      ]
    },
    {
      "cell_type": "code",
      "execution_count": 0,
      "metadata": {
        "colab": {},
        "colab_type": "code",
        "id": "hJGjglDq-WRG"
      },
      "outputs": [],
      "source": [
        "data['Age'].value_counts()"
      ]
    },
    {
      "cell_type": "code",
      "execution_count": 0,
      "metadata": {
        "colab": {},
        "colab_type": "code",
        "id": "Web4HrNqlou0"
      },
      "outputs": [],
      "source": [
        "# comparison of age in the dataset\n",
        "\n",
        "plt.hist(x = data.Age, bins = 10, color = 'orange')\n",
        "plt.title('comparison of Age')\n",
        "plt.xlabel('Age')\n",
        "plt.ylabel('population')\n",
        "plt.show()"
      ]
    },
    {
      "cell_type": "code",
      "execution_count": 0,
      "metadata": {
        "colab": {},
        "colab_type": "code",
        "id": "0W2IB3hu-vRH"
      },
      "outputs": [],
      "source": [
        "data['Geography'].value_counts()"
      ]
    },
    {
      "cell_type": "code",
      "execution_count": 0,
      "metadata": {
        "colab": {},
        "colab_type": "code",
        "id": "CacR8PLhpx6g"
      },
      "outputs": [],
      "source": [
        "# comparison of geography\n",
        "\n",
        "plt.hist(x = data.Geography, bins = 5, color = 'green')\n",
        "plt.title('comparison of Geography')\n",
        "plt.xlabel('Geography')\n",
        "plt.ylabel('population')\n",
        "plt.show()"
      ]
    },
    {
      "cell_type": "code",
      "execution_count": 0,
      "metadata": {
        "colab": {},
        "colab_type": "code",
        "id": "UqBMAWek-05s"
      },
      "outputs": [],
      "source": [
        "data['HasCrCard'].value_counts()"
      ]
    },
    {
      "cell_type": "code",
      "execution_count": 0,
      "metadata": {
        "colab": {},
        "colab_type": "code",
        "id": "NSgBRAikqXCd"
      },
      "outputs": [],
      "source": [
        "# comparision of how many customers hold the credit card\n",
        "\n",
        "plt.hist(x = data.HasCrCard, bins = 3, color = 'red')\n",
        "plt.title('how many people have or not have the credit card')\n",
        "plt.xlabel('customers holding credit card')\n",
        "plt.ylabel('population')\n",
        "plt.show()"
      ]
    },
    {
      "cell_type": "code",
      "execution_count": 0,
      "metadata": {
        "colab": {},
        "colab_type": "code",
        "id": "UCVDCm0N-9Mb"
      },
      "outputs": [],
      "source": [
        "data['IsActiveMember'].value_counts()"
      ]
    },
    {
      "cell_type": "code",
      "execution_count": 0,
      "metadata": {
        "colab": {},
        "colab_type": "code",
        "id": "_v_jHh6zraHS"
      },
      "outputs": [],
      "source": [
        "# How many active member does the bank have ?\n",
        "\n",
        "plt.hist(x = data.IsActiveMember, bins = 3, color = 'brown')\n",
        "plt.title('Active Members')\n",
        "plt.xlabel('Customers')\n",
        "plt.ylabel('population')\n",
        "plt.show()"
      ]
    },
    {
      "cell_type": "code",
      "execution_count": 0,
      "metadata": {
        "colab": {},
        "colab_type": "code",
        "id": "uubQD4NktRaN"
      },
      "outputs": [],
      "source": [
        "# comparison between Geography and Gender\n",
        "\n",
        "Gender = pd.crosstab(data['Gender'],data['Geography'])\n",
        "Gender.div(Gender.sum(1).astype(float), axis=0).plot(kind=\"bar\", stacked=True, figsize=(6, 6))\n",
        "\n"
      ]
    },
    {
      "cell_type": "code",
      "execution_count": 0,
      "metadata": {
        "colab": {},
        "colab_type": "code",
        "id": "i68rxAM1wyTt"
      },
      "outputs": [],
      "source": [
        "# comparison between geography and card holders\n",
        "\n",
        "HasCrCard = pd.crosstab(data['HasCrCard'], data['Geography'])\n",
        "HasCrCard.div(HasCrCard.sum(1).astype(float), axis = 0).plot(kind = 'bar',\n",
        "                                            stacked = True,figsize = (6, 6))\n",
        "\n"
      ]
    },
    {
      "cell_type": "code",
      "execution_count": 0,
      "metadata": {
        "colab": {},
        "colab_type": "code",
        "id": "JcSXelsA0nYU"
      },
      "outputs": [],
      "source": [
        "# comparison of active member in differnt geographies\n",
        "\n",
        "IsActiveMember = pd.crosstab(data['IsActiveMember'], data['Geography'])\n",
        "IsActiveMember.div(IsActiveMember.sum(1).astype(float), axis = 0).plot(kind = 'bar', \n",
        "                                             stacked = True, figsize= (6, 6))"
      ]
    },
    {
      "cell_type": "code",
      "execution_count": 0,
      "metadata": {
        "colab": {},
        "colab_type": "code",
        "id": "Y03E7IVV1fOh"
      },
      "outputs": [],
      "source": [
        "# comparing ages in different geographies\n",
        "\n",
        "Age = pd.crosstab(data['Age'], data['Geography'])\n",
        "Age.div(Age.sum(1).astype(float), axis = 0).plot(kind = 'bar', \n",
        "                                           stacked = True, figsize = (15,15))"
      ]
    },
    {
      "cell_type": "code",
      "execution_count": 0,
      "metadata": {
        "colab": {},
        "colab_type": "code",
        "id": "6Vp0UZiK2bTJ"
      },
      "outputs": [],
      "source": [
        "# calculating total balance in france, germany and spain\n",
        "\n",
        "total_france = data.Balance[data.Geography == 'France'].sum()\n",
        "total_germany = data.Balance[data.Geography == 'Germany'].sum()\n",
        "total_spain = data.Balance[data.Geography == 'Spain'].sum()\n",
        "\n",
        "print(\"Total Balance in France :\",total_france)\n",
        "print(\"Total Balance in Germany :\",total_germany)\n",
        "print(\"Total Balance in Spain :\",total_spain)\n"
      ]
    },
    {
      "cell_type": "code",
      "execution_count": 0,
      "metadata": {
        "colab": {},
        "colab_type": "code",
        "id": "w6ZyljXl_YB1"
      },
      "outputs": [],
      "source": [
        "# plotting a pie chart\n",
        "\n",
        "labels = 'France', 'Germany', 'Spain'\n",
        "colors = ['cyan', 'magenta', 'orange']\n",
        "sizes =  [311, 300, 153]\n",
        "explode = [ 0.01, 0.01, 0.01]\n",
        "\n",
        "plt.pie(sizes, colors = colors, labels = labels, explode = explode, shadow = True)\n",
        "\n",
        "plt.axis('equal')\n",
        "plt.show()"
      ]
    },
    {
      "cell_type": "markdown",
      "metadata": {
        "colab_type": "text",
        "id": "ss9REZXjU4at"
      },
      "source": [
        "**Data Preprocessing**"
      ]
    },
    {
      "cell_type": "code",
      "execution_count": 0,
      "metadata": {
        "colab": {},
        "colab_type": "code",
        "id": "wce3Hm9XU3XT"
      },
      "outputs": [],
      "source": [
        "# Removing the unnecassary features from the dataset\n",
        "\n",
        "data = data.drop(['CustomerId', 'Surname', 'RowNumber'], axis = 1)\n",
        "\n",
        "\n",
        "\n",
        "print(data.columns)"
      ]
    },
    {
      "cell_type": "code",
      "execution_count": 0,
      "metadata": {
        "colab": {},
        "colab_type": "code",
        "id": "M-UovDqiK5LK"
      },
      "outputs": [],
      "source": [
        "data.shape"
      ]
    },
    {
      "cell_type": "code",
      "execution_count": 0,
      "metadata": {
        "colab": {},
        "colab_type": "code",
        "id": "-6e_Flxh7cpa"
      },
      "outputs": [],
      "source": [
        "# splitting the dataset into x(independent variables) and y(dependent variables)\n",
        "\n",
        "x = data.iloc[:,0:10]\n",
        "y = data.iloc[:,10]\n",
        "\n",
        "print(x.shape)\n",
        "print(y.shape)\n",
        "\n",
        "print(x.columns)\n",
        "#print(y)"
      ]
    },
    {
      "cell_type": "code",
      "execution_count": 0,
      "metadata": {
        "colab": {},
        "colab_type": "code",
        "id": "-tIpZZBWZTMu"
      },
      "outputs": [],
      "source": [
        "# Encoding Categorical variables into numerical variables\n",
        "# One Hot Encoding\n",
        "\n",
        "x = pd.get_dummies(x)\n",
        "\n",
        "x.head()"
      ]
    },
    {
      "cell_type": "code",
      "execution_count": 0,
      "metadata": {
        "colab": {},
        "colab_type": "code",
        "id": "QUX4XvrtLWGy"
      },
      "outputs": [],
      "source": [
        "x.shape"
      ]
    },
    {
      "cell_type": "code",
      "execution_count": 0,
      "metadata": {
        "colab": {},
        "colab_type": "code",
        "id": "9RqmZSGX5TcE"
      },
      "outputs": [],
      "source": [
        "# splitting the data into training and testing set\n",
        "\n",
        "from sklearn.model_selection import train_test_split\n",
        "x_train, x_test, y_train, y_test = train_test_split(x, y, test_size = 0.25, random_state = 0)\n",
        "\n",
        "print(x_train.shape)\n",
        "print(y_train.shape)\n",
        "print(x_test.shape)\n",
        "print(y_test.shape)"
      ]
    },
    {
      "cell_type": "code",
      "execution_count": 0,
      "metadata": {
        "colab": {},
        "colab_type": "code",
        "id": "HMz6rg-_bTzq"
      },
      "outputs": [],
      "source": [
        "# Feature Scaling \n",
        "# Only on Independent Variable to convert them into values ranging from -1 to +1\n",
        "\n",
        "from sklearn.preprocessing import StandardScaler\n",
        "\n",
        "sc = StandardScaler()\n",
        "x_train = sc.fit_transform(x_train)\n",
        "x_test = sc.fit_transform(x_test)\n",
        "\n",
        "x_train = pd.DataFrame(x_train)\n",
        "x_train.head()"
      ]
    },
    {
      "cell_type": "markdown",
      "metadata": {
        "colab_type": "text",
        "id": "0-fUw-Wacj97"
      },
      "source": [
        "**Modelling**"
      ]
    },
    {
      "cell_type": "markdown",
      "metadata": {
        "colab_type": "text",
        "id": "nO64kkKHdRzm"
      },
      "source": [
        "**Decision Tree**"
      ]
    },
    {
      "cell_type": "code",
      "execution_count": 0,
      "metadata": {
        "colab": {},
        "colab_type": "code",
        "id": "eci1C6NS9N6p"
      },
      "outputs": [],
      "source": [
        "from sklearn.tree import DecisionTreeClassifier\n",
        "from sklearn.metrics import confusion_matrix\n",
        "\n",
        "model = DecisionTreeClassifier() \n",
        "model.fit(x_train, y_train)\n",
        "\n",
        "y_pred = model.predict(x_test)\n",
        "\n",
        "print(\"Training Accuracy :\", model.score(x_train, y_train))\n",
        "print(\"Testing Accuaracy :\", model.score(x_test, y_test))\n",
        "\n",
        "cm = confusion_matrix(y_test, y_pred)\n",
        "print(cm)"
      ]
    },
    {
      "cell_type": "markdown",
      "metadata": {
        "colab_type": "text",
        "id": "BvCzfjYPdW_m"
      },
      "source": [
        "**Random Forest**"
      ]
    },
    {
      "cell_type": "code",
      "execution_count": 0,
      "metadata": {
        "colab": {},
        "colab_type": "code",
        "id": "Yz8YzOCXcotr"
      },
      "outputs": [],
      "source": [
        "from sklearn.ensemble import RandomForestClassifier\n",
        "\n",
        "model = RandomForestClassifier()\n",
        "model.fit(x_train, y_train)\n",
        "\n",
        "y_pred = model.predict(x_test)\n",
        "\n",
        "print(\"Training Accuracy :\", model.score(x_train, y_train))\n",
        "print(\"Testing Accuracy :\", model.score(x_test, y_test))\n",
        "\n",
        "cm = confusion_matrix(y_test, y_pred)\n",
        "print(cm)"
      ]
    },
    {
      "cell_type": "code",
      "execution_count": 0,
      "metadata": {
        "colab": {},
        "colab_type": "code",
        "id": "eTH2C_0BBMUO"
      },
      "outputs": [],
      "source": [
        "# k fold cross validatio\n",
        "\n",
        "from sklearn.model_selection import cross_val_score\n",
        "\n",
        "cvs = cross_val_score(estimator = model, X = x_train, y = y_train, cv = 10)\n",
        "print(cvs)"
      ]
    },
    {
      "cell_type": "code",
      "execution_count": 0,
      "metadata": {
        "colab": {},
        "colab_type": "code",
        "id": "4EBQnw2CB4Hy"
      },
      "outputs": [],
      "source": [
        "print(\"Mean Accuracy :\", cvs.mean())\n",
        "print(\"Variance :\", cvs.std())"
      ]
    },
    {
      "cell_type": "markdown",
      "metadata": {
        "colab_type": "text",
        "id": "j60iKI-ieMQ6"
      },
      "source": [
        "**Logistic Regression**"
      ]
    },
    {
      "cell_type": "code",
      "execution_count": 0,
      "metadata": {
        "colab": {},
        "colab_type": "code",
        "id": "P-ce8xt_9x98"
      },
      "outputs": [],
      "source": [
        "from sklearn.linear_model import LogisticRegression\n",
        "\n",
        "model = LogisticRegression()\n",
        "model.fit(x_train, y_train)\n",
        "\n",
        "y_pred = model.predict(x_test)\n",
        "\n",
        "print(\"Training Accuracy :\", model.score(x_train, y_train))\n",
        "print(\"Testing Accuracy :\", model.score(x_test, y_test))\n",
        "\n",
        "cm = confusion_matrix(y_test, y_pred)\n",
        "print(cm)"
      ]
    },
    {
      "cell_type": "markdown",
      "metadata": {
        "colab_type": "text",
        "id": "wQeWPg-3ehE9"
      },
      "source": [
        "**Support Vector Machine**"
      ]
    },
    {
      "cell_type": "code",
      "execution_count": 0,
      "metadata": {
        "colab": {},
        "colab_type": "code",
        "id": "-pgdW05FefW0"
      },
      "outputs": [],
      "source": [
        "from sklearn.svm import SVC\n",
        "\n",
        "model = SVC()\n",
        "model.fit(x_train, y_train)\n",
        "\n",
        "y_pred = model.predict(x_test)\n",
        "\n",
        "print(\"Training Accuracy :\", model.score(x_train, y_train))\n",
        "print(\"Testing Accuracy :\", model.score(x_test, y_test))\n",
        "\n",
        "cm = confusion_matrix(y_test, y_pred)\n",
        "print(cm)"
      ]
    },
    {
      "cell_type": "code",
      "execution_count": 0,
      "metadata": {
        "colab": {},
        "colab_type": "code",
        "id": "eoQoqSJJMK_3"
      },
      "outputs": [],
      "source": [
        "# k fold cross validatio\n",
        "\n",
        "from sklearn.model_selection import cross_val_score\n",
        "\n",
        "cvs = cross_val_score(estimator = model, X = x_train, y = y_train, cv = 10)\n",
        "print(cvs)"
      ]
    },
    {
      "cell_type": "code",
      "execution_count": 0,
      "metadata": {
        "colab": {},
        "colab_type": "code",
        "id": "2RIsnUf3MKom"
      },
      "outputs": [],
      "source": [
        "print(\"Mean Accuracy :\", cvs.mean())\n",
        "print(\"Variance :\", cvs.std())"
      ]
    },
    {
      "cell_type": "markdown",
      "metadata": {
        "colab_type": "text",
        "id": "5QNYyEWSe5cR"
      },
      "source": [
        "**Multi Layer Perceptron**"
      ]
    },
    {
      "cell_type": "code",
      "execution_count": 0,
      "metadata": {
        "colab": {},
        "colab_type": "code",
        "id": "HyUIYbfne4cL"
      },
      "outputs": [],
      "source": [
        "from sklearn.neural_network import MLPClassifier\n",
        "\n",
        "model = MLPClassifier(hidden_layer_sizes = (100, 100), activation ='relu', \n",
        "                      solver = 'adam', max_iter = 50)\n",
        "model.fit(x_train, y_train)\n",
        "\n",
        "y_pred = model.predict(x_test)\n",
        "\n",
        "print(\"Training Accuracy :\", model.score(x_train, y_train))\n",
        "print(\"Testing Accuracy :\", model.score(x_test, y_test))\n",
        "\n",
        "cm = confusion_matrix(y_test, y_pred)\n",
        "print(cm)"
      ]
    },
    {
      "cell_type": "markdown",
      "metadata": {
        "colab_type": "text",
        "id": "veMTFqaZgQOI"
      },
      "source": [
        "**Aritificial Neural Networks**"
      ]
    },
    {
      "cell_type": "code",
      "execution_count": 0,
      "metadata": {
        "colab": {},
        "colab_type": "code",
        "id": "U3DQbZVRfR_j"
      },
      "outputs": [],
      "source": [
        "import keras\n",
        "from keras.models import Sequential\n",
        "from keras.layers import Dense"
      ]
    },
    {
      "cell_type": "code",
      "execution_count": 0,
      "metadata": {
        "colab": {},
        "colab_type": "code",
        "id": "xafViQmvgjhV"
      },
      "outputs": [],
      "source": [
        "# creating the model\n",
        "model = Sequential()\n",
        "\n",
        "# first hidden layer\n",
        "model.add(Dense(output_dim = 8, init = 'uniform', activation = 'relu', input_dim = 14))\n",
        "\n",
        "# second hidden layer\n",
        "model.add(Dense(output_dim = 8, init = 'uniform', activation = 'relu'))\n",
        "\n",
        "# third hidden layer\n",
        "model.add(Dense(output_dim = 8, init = 'uniform', activation = 'relu'))\n",
        "\n",
        "# fourth hidden layer\n",
        "model.add(Dense(output_dim = 8, init = 'uniform', activation = 'relu'))\n",
        "\n",
        "# fifth hidden layer\n",
        "model.add(Dense(output_dim = 8, init = 'uniform', activation = 'relu'))\n",
        "\n",
        "# output layer\n",
        "model.add(Dense(output_dim = 1, init = 'uniform', activation = 'sigmoid'))\n",
        "\n",
        "# Compiling the NN\n",
        "# binary_crossentropy loss function used when a binary output is expected\n",
        "model.compile(optimizer = 'adam', loss = 'binary_crossentropy', metrics = ['accuracy']) \n",
        "\n",
        "model.fit(x_train, y_train, batch_size = 10, nb_epoch = 50)\n",
        "\n"
      ]
    },
    {
      "cell_type": "code",
      "execution_count": 0,
      "metadata": {
        "colab": {},
        "colab_type": "code",
        "id": "uVd2MAhXE5Hc"
      },
      "outputs": [],
      "source": [
        "# creating the model\n",
        "model = Sequential()\n",
        "\n",
        "from keras.layers import Dropout\n",
        "\n",
        "# first hidden layer\n",
        "model.add(Dense(output_dim = 8, init = 'uniform', activation = 'relu', input_dim = 14))\n",
        "model.add(Dropout(0.5))\n",
        "\n",
        "# second hidden layer\n",
        "model.add(Dense(output_dim = 8, init = 'uniform', activation = 'relu'))\n",
        "model.add(Dropout(0.5))\n",
        "\n",
        "# output layer\n",
        "model.add(Dense(output_dim = 1, init = 'uniform', activation = 'sigmoid'))\n",
        "\n",
        "# Compiling the NN\n",
        "# binary_crossentropy loss function used when a binary output is expected\n",
        "model.compile(optimizer = 'adam', loss = 'binary_crossentropy', metrics = ['accuracy']) \n",
        "\n",
        "model.fit(x_train, y_train, batch_size = 10, nb_epoch = 50)\n",
        "\n"
      ]
    },
    {
      "cell_type": "code",
      "execution_count": 0,
      "metadata": {
        "colab": {},
        "colab_type": "code",
        "id": "h5YNM3DLFiTf"
      },
      "outputs": [],
      "source": [
        "# creating the model\n",
        "model = Sequential()\n",
        "\n",
        "# first hidden layer\n",
        "model.add(Dense(output_dim = 8, init = 'uniform', activation = 'relu', input_dim = 14))\n",
        "model.add(Dropout(0.1))\n",
        "\n",
        "# second hidden layer\n",
        "model.add(Dense(output_dim = 8, init = 'uniform', activation = 'relu'))\n",
        "model.add(Dropout(0.1))\n",
        "\n",
        "# output layer\n",
        "model.add(Dense(output_dim = 1, init = 'uniform', activation = 'sigmoid'))\n",
        "\n",
        "# Compiling the NN\n",
        "# binary_crossentropy loss function used when a binary output is expected\n",
        "model.compile(optimizer = 'adam', loss = 'binary_crossentropy', metrics = ['accuracy']) \n",
        "\n",
        "model.fit(x_train, y_train, batch_size = 10, nb_epoch = 50)\n",
        "\n"
      ]
    },
    {
      "cell_type": "code",
      "execution_count": 0,
      "metadata": {
        "colab": {},
        "colab_type": "code",
        "id": "tlBmG8fVGEb6"
      },
      "outputs": [],
      "source": [
        "# creating the model\n",
        "model = Sequential()\n",
        "\n",
        "# first hidden layer\n",
        "model.add(Dense(output_dim = 8, init = 'uniform', activation = 'relu', input_dim = 13))\n",
        "\n",
        "# second hidden layer\n",
        "model.add(Dense(output_dim = 8, init = 'uniform', activation = 'relu'))\n",
        "\n",
        "# output layer\n",
        "model.add(Dense(output_dim = 1, init = 'uniform', activation = 'sigmoid'))\n",
        "\n",
        "# Compiling the NN\n",
        "# binary_crossentropy loss function used when a binary output is expected\n",
        "model.compile(optimizer = 'adam', loss = 'binary_crossentropy', metrics = ['accuracy']) \n",
        "\n",
        "model.fit(x_train, y_train, batch_size = 10, nb_epoch = 49)\n",
        "\n"
      ]
    },
    {
      "cell_type": "code",
      "execution_count": 0,
      "metadata": {
        "colab": {},
        "colab_type": "code",
        "id": "DLA-gwNvJFsE"
      },
      "outputs": [],
      "source": [
        "data.columns"
      ]
    },
    {
      "cell_type": "code",
      "execution_count": 0,
      "metadata": {
        "colab": {},
        "colab_type": "code",
        "id": "WFOvRqg6GeW3"
      },
      "outputs": [],
      "source": [
        "'''\n",
        "predicting if the costumer having following information will leave the bank or not ?\n",
        "\n",
        "Geography : france\n",
        "Age = 50\n",
        "Credit score = 850\n",
        "Tenure = 4\n",
        "Balance = 150000\n",
        "Number of Products = 5\n",
        "Gender = Female\n",
        "Has Credit Card = yes\n",
        "Is Active Member = yes\n",
        "Estimated Salary = 85000\n",
        "'''\n",
        "\n",
        "new_prediction = model.predict(sc.transform(np.array([[850, 50, 4, 150000, 5, 1, 1, 85000, 1, 0, 0, 1, 0]])))\n",
        "\n",
        "new_prediction = (new_prediction > 0.5 )\n",
        "print(new_prediction)"
      ]
    },
    {
      "cell_type": "code",
      "execution_count": 0,
      "metadata": {
        "colab": {},
        "colab_type": "code",
        "id": "jjseXpQzGLZP"
      },
      "outputs": [],
      "source": [
        "from keras.wrappers.scikit_learn import KerasClassifier\n",
        "from sklearn.model_selection import cross_val_score\n",
        "\n",
        "from keras.layers import Dense\n",
        "from keras.models import Sequential\n",
        "\n",
        "def build_classifier():\n",
        "  # creating the model\n",
        "  model = Sequential()\n",
        "\n",
        "  # first hidden layer\n",
        "  model.add(Dense(output_dim = 8, init = 'uniform', activation = 'relu', input_dim = 13))\n",
        "\n",
        "  # second hidden layer\n",
        "  model.add(Dense(output_dim = 8, init = 'uniform', activation = 'relu'))\n",
        "\n",
        "  # output layer\n",
        "  model.add(Dense(output_dim = 1, init = 'uniform', activation = 'sigmoid'))\n",
        "\n",
        "  # Compiling the NN\n",
        "  # binary_crossentropy loss function used when a binary output is expected\n",
        "  model.compile(optimizer = 'adam', loss = 'binary_crossentropy', metrics = ['accuracy'])\n",
        "  \n",
        "  return model\n",
        "\n",
        "model = KerasClassifier(build_fn = build_classifier, batch_size = 10, nb_epoch = 50)\n",
        "accuracies = cross_val_score(estimator = model, X = x_train, y = y_train, cv = 10, n_jobs = -1)\n"
      ]
    },
    {
      "cell_type": "code",
      "execution_count": 0,
      "metadata": {
        "colab": {},
        "colab_type": "code",
        "id": "IB8HfZ1yR3dz"
      },
      "outputs": [],
      "source": [
        "print(\"Accuracies :\", accuracies)\n",
        "\n",
        "print(\"Mean Accuracy :\", accuracies.mean())\n",
        "print(\"Variance :\", accuracies.std())"
      ]
    }
  ],
  "metadata": {
    "colab": {
      "collapsed_sections": [],
      "include_colab_link": true,
      "name": "Churn_Modelling.ipynb",
      "provenance": [],
      "version": "0.3.2"
    },
    "kernelspec": {
      "display_name": "Python 3",
      "name": "python3"
    }
  },
  "nbformat": 4,
  "nbformat_minor": 0
}
